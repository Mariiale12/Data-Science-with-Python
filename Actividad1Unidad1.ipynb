{
 "cells": [
  {
   "cell_type": "markdown",
   "metadata": {},
   "source": [
    "# Listado de Ejercicios a realizar"
   ]
  },
  {
   "cell_type": "markdown",
   "metadata": {},
   "source": [
    "## 1. Sin usar el computador, evalúe las siguientes expresiones, y para cada una de ellas indique el resultado y su tipo (si la expresión es válida) o qué error ocurre:\n",
    "\n",
    "### Ejemplo\n",
    "- 2 + 3      # Respuesta: tipo int, valor 5\n",
    "- 4 / 0      # Respuesta: error de división por cero\n",
    "\n",
    "### Ejercicio\n",
    "\n",
    "- 5 + 3 * 4 / Tipo -> entero / Resultado -> 17\n",
    "- '5' + '3' * 2 / Tipo -> string / Resultado -> 533\n",
    "- 2 ** 11 == 1000 or 2 ** 9 == 100 / Tipo -> booleano / Resultado -> FALSE\n",
    "- int(\"cincuenta\") # Error está asignando a un objeto tipo entero un objeto tipo caracter\n",
    "- 16/16 + 384/24 / Tipo -> float / Resultado -> 17\n",
    "- 600 + 18% / Tipo -> float / Resultado -> 600.18\n",
    "- 0 < (4096 % 10) < 6 / Tipo -> booleano / Resultado -> False\n",
    "- 'Max' + 'Min' / Tipo -> string / Resultado -> 'MaxMin'\n",
    "- ABC() * DEF() # Error \n",
    "- float(-int('7') + int('90')) / Tipo -> float / Resultado -> 83 # función de conversión de formato\n",
    "- abs(len('seis') - len('tres')) # Aqui lo que hace es que resta la cantidad de caracteres que tiene 'seis' (en este caso serian cuatro, porque tiene cuatro letras) y la cantidad de caracteres del string 'tres' (en este caso serian cuatro tambien) entonces 4-4 = 0\n",
    "- bool(1210) or bool(-3465) / Tipo -> booleano / Resultado -> True\n",
    "- float(str(int('8' * 3) / 3)[3]) # Error no se puede convertir un objeto tipo string a float"
   ]
  },
  {
   "cell_type": "markdown",
   "metadata": {},
   "source": [
    "# 2. Imprima su nombre y fecha\n",
    "- Imprime: Jorge Alvarez - 20-04-2020"
   ]
  },
  {
   "cell_type": "code",
   "execution_count": 1,
   "metadata": {},
   "outputs": [
    {
     "name": "stdout",
     "output_type": "stream",
     "text": [
      "María Alejandra Millán - 19/ 07/ 2021\n"
     ]
    }
   ],
   "source": [
    "# Respuesta:\n",
    "print(\"María Alejandra Millán - 19/ 07/ 2021\")\n"
   ]
  },
  {
   "cell_type": "markdown",
   "metadata": {},
   "source": [
    "# 3. Solicite un nombre y que el programa salude\n",
    "### Ejemplo:\n",
    "- ingreso: 'Andres'\n",
    "- imprime: 'Hola Andres'"
   ]
  },
  {
   "cell_type": "code",
   "execution_count": 2,
   "metadata": {},
   "outputs": [
    {
     "name": "stdout",
     "output_type": "stream",
     "text": [
      "¿Cómo te llamas?\n"
     ]
    }
   ],
   "source": [
    "print('¿Cómo te llamas?')"
   ]
  },
  {
   "cell_type": "code",
   "execution_count": 3,
   "metadata": {},
   "outputs": [
    {
     "name": "stdout",
     "output_type": "stream",
     "text": [
      "Maria\n"
     ]
    }
   ],
   "source": [
    "Nombre = input()"
   ]
  },
  {
   "cell_type": "code",
   "execution_count": 4,
   "metadata": {},
   "outputs": [
    {
     "name": "stdout",
     "output_type": "stream",
     "text": [
      "Es un placer conocerte, Maria\n"
     ]
    }
   ],
   "source": [
    "print('Es un placer conocerte, ' + Nombre)"
   ]
  },
  {
   "cell_type": "markdown",
   "metadata": {},
   "source": [
    "# 4. Solicite el radio (un numero) de un círculo e imprima como salida su diámetro, perímetro y su área\n",
    "### Ejemplo\n",
    "- ingreso: 3 \n",
    "- imprime - Diametro: 6\n",
    "- imprime - Perimetro: 18.84\n",
    "- imprime - Area: 28.27"
   ]
  },
  {
   "cell_type": "code",
   "execution_count": 5,
   "metadata": {},
   "outputs": [
    {
     "name": "stdout",
     "output_type": "stream",
     "text": [
      "Ingresa el radio del circulo\n",
      "3\n"
     ]
    }
   ],
   "source": [
    "# Respuesta:\n",
    "print('Ingresa el radio del circulo')\n",
    "\n",
    "Radio = float(input())\n"
   ]
  },
  {
   "cell_type": "code",
   "execution_count": 6,
   "metadata": {},
   "outputs": [],
   "source": [
    "Diametro = 2*Radio\n",
    "Perimetro = 2*3.14*Radio\n",
    "Area = 3.14*(Radio**2)"
   ]
  },
  {
   "cell_type": "code",
   "execution_count": 7,
   "metadata": {},
   "outputs": [
    {
     "name": "stdout",
     "output_type": "stream",
     "text": [
      "El diametro del circulo es 6.0\n",
      "El perimetro del circulo es 18.84\n",
      "El area del circulo es 28.26\n"
     ]
    }
   ],
   "source": [
    "print('El diametro del circulo es ' + str(Diametro))\n",
    "print('El perimetro del circulo es ' + str(Perimetro))\n",
    "print('El area del circulo es ' + str(Area))"
   ]
  },
  {
   "cell_type": "markdown",
   "metadata": {},
   "source": [
    "# 5. Solicite 6 notas y calcule el promedio de ellas\n",
    "### Ejemplo\n",
    "- ingreso: 1 2 3 4 5 6\n",
    "- imprime: 3.5"
   ]
  },
  {
   "cell_type": "code",
   "execution_count": 8,
   "metadata": {},
   "outputs": [
    {
     "name": "stdout",
     "output_type": "stream",
     "text": [
      " Escriba su nota 1\n",
      " Escriba su nota 2\n",
      " Escriba su nota 3\n",
      " Escriba su nota 4\n",
      " Escriba su nota 5\n",
      " Escriba su nota 6\n",
      "3.5\n"
     ]
    }
   ],
   "source": [
    "lasseis = []\n",
    "for i in range(6):\n",
    "    nota = float(input(\" Escriba su nota \"))\n",
    "    lasseis.append(nota)\n",
    "    mean = sum(lasseis)/len(lasseis)\n",
    "print(mean)"
   ]
  },
  {
   "cell_type": "markdown",
   "metadata": {},
   "source": [
    "# 6. Solicite un valor e imprima que tipo de dato es\n",
    "### Ejemplo\n",
    "- ingreso: 'A'\n",
    "- imprime: str\n",
    "- ingreso: 1\n",
    "- imprime: int"
   ]
  },
  {
   "cell_type": "code",
   "execution_count": 9,
   "metadata": {},
   "outputs": [
    {
     "name": "stdout",
     "output_type": "stream",
     "text": [
      "Ingresa un valor 5\n"
     ]
    },
    {
     "data": {
      "text/plain": [
       "str"
      ]
     },
     "execution_count": 9,
     "metadata": {},
     "output_type": "execute_result"
    }
   ],
   "source": [
    "# Respuesta:\n",
    "valor = input( \"Ingresa un valor \")\n",
    "type(valor)"
   ]
  },
  {
   "cell_type": "markdown",
   "metadata": {},
   "source": [
    "# 7. Escriba en código la siguiente ecuación\n",
    "$$ \\left(\\frac{5+3}{3-2}\\right)^2$$"
   ]
  },
  {
   "cell_type": "code",
   "execution_count": 12,
   "metadata": {},
   "outputs": [],
   "source": [
    "# Respuesta\n",
    "eq = ((5+3)/(3-2))**2\n"
   ]
  },
  {
   "cell_type": "code",
   "execution_count": 13,
   "metadata": {},
   "outputs": [
    {
     "data": {
      "text/plain": [
       "64.0"
      ]
     },
     "execution_count": 13,
     "metadata": {},
     "output_type": "execute_result"
    }
   ],
   "source": [
    "eq"
   ]
  },
  {
   "cell_type": "markdown",
   "metadata": {},
   "source": [
    "# 8. Solicite número de horas trabajadas y coste por horas e imprima el valor\n",
    "### Ejemplo:\n",
    "- Ingreso: 4 (horas)\n",
    "- ingreso: 80.000 (precio x hora)\n",
    "- imprime: 320.000"
   ]
  },
  {
   "cell_type": "code",
   "execution_count": 20,
   "metadata": {},
   "outputs": [
    {
     "name": "stdout",
     "output_type": "stream",
     "text": [
      "Cuantas horas trabajó? 4\n",
      "Cuanto vale una hora de trabajo? 80000\n",
      "Deben pagarle un total de: 320000.0\n"
     ]
    }
   ],
   "source": [
    "# Respuesta\n",
    "horas = float(input(\"Cuantas horas trabajó? \"))\n",
    "precio = float(input(\"Cuanto vale una hora de trabajo? \"))\n",
    "print(\"Deben pagarle un total de: \" + str(horas*precio))"
   ]
  },
  {
   "cell_type": "markdown",
   "metadata": {},
   "source": [
    "# 9. Solicite la temperatura en grados Celsius e imprima en grados Kelvin y Fahrenheit \n",
    "### Ejemplo:\n",
    "- ingreso: 38 (°C)\n",
    "- imprime: 311.15 °K\n",
    "- imprime: 100.4 °F"
   ]
  },
  {
   "cell_type": "code",
   "execution_count": 27,
   "metadata": {},
   "outputs": [
    {
     "name": "stdout",
     "output_type": "stream",
     "text": [
      "Ingrese la temperatura en grados Celsius: 38\n",
      "Es lo mismo que: 311.15 Kelvin y 100.4 Fahrenheit\n"
     ]
    }
   ],
   "source": [
    "# Respuesta\n",
    "temperatura = float(input(\"Ingrese la temperatura en grados Celsius: \"))\n",
    "Kelvin = temperatura + 273.15\n",
    "Fahrenheit = (temperatura * 9/5) + 32 \n",
    "print(\"Es lo mismo que: \" + str(Kelvin)+ \" Kelvin y \" + str(Fahrenheit) + \" Fahrenheit\" )\n"
   ]
  },
  {
   "cell_type": "markdown",
   "metadata": {},
   "source": [
    "# 10. Solicite 2 numeros e imprima si el segundo es mayor  \n",
    "### Ejemplo:\n",
    "- ingreso: 2\n",
    "- ingreso: 3\n",
    "- impmrime: True"
   ]
  },
  {
   "cell_type": "code",
   "execution_count": 31,
   "metadata": {},
   "outputs": [
    {
     "name": "stdout",
     "output_type": "stream",
     "text": [
      " Escriba un numero: 5\n",
      " Escriba otro numero 6\n",
      "El segundo número es mayor\n"
     ]
    }
   ],
   "source": [
    "# Respuesta\n",
    "num1 = float(input(\" Escriba un numero: \"))\n",
    "num2= float(input( \" Escriba otro numero \"))\n",
    "if num2>num1:\n",
    "    print(\"El segundo número es mayor\")"
   ]
  },
  {
   "cell_type": "markdown",
   "metadata": {},
   "source": [
    "# 11. Solicite 2 numeros e imprima si el segundo es menor  \n",
    "### Ejemplo:\n",
    "- ingreso: 2\n",
    "- ingreso: 3\n",
    "- impmrime: False"
   ]
  },
  {
   "cell_type": "code",
   "execution_count": 33,
   "metadata": {},
   "outputs": [
    {
     "name": "stdout",
     "output_type": "stream",
     "text": [
      " Escriba un numero: 1\n",
      " Escriba otro numero 2\n"
     ]
    }
   ],
   "source": [
    "# Respuesta\n",
    "num3 = float(input(\" Escriba un numero: \"))\n",
    "num4= float(input( \" Escriba otro numero \"))\n",
    "if num4<num3:\n",
    "    print(\"El segundo número es menor\")"
   ]
  },
  {
   "cell_type": "markdown",
   "metadata": {},
   "source": [
    "# 12. Solicite una distancia (metros) y la velocidad (metros/segundos) e imprima el tiempo que se demora el recorrido\n",
    "### Ejemplo:\n",
    "- ingreso: 150 (metros)\n",
    "- ingreso: 15 (metros/segundo)\n",
    "- Imprime: 10 segundos"
   ]
  },
  {
   "cell_type": "code",
   "execution_count": 35,
   "metadata": {},
   "outputs": [
    {
     "name": "stdout",
     "output_type": "stream",
     "text": [
      " Escriba la distancia en metros 150\n",
      " Escriba la velocidad en segundos por cada metro 15\n",
      " El tiempo que tarda en el recorrido es de: 10.0\n"
     ]
    }
   ],
   "source": [
    "# Respuesta\n",
    "distancia = float(input(\" Escriba la distancia en metros \"))\n",
    "velocidad = float(input(\" Escriba la velocidad en segundos por cada metro \"))\n",
    "print(\" El tiempo que tarda en el recorrido es de: \" + str(distancia/velocidad))\n"
   ]
  },
  {
   "cell_type": "markdown",
   "metadata": {},
   "source": [
    "# 13. Solicite al usuario tres valores y escriba en código la siguiente ecuación\n",
    "$$ \\left(\\frac{a+b}{c}\\right) ^2 + \\left(\\frac{a-b}{c}\\right) ^ 2 $$"
   ]
  },
  {
   "cell_type": "code",
   "execution_count": 53,
   "metadata": {},
   "outputs": [
    {
     "name": "stdout",
     "output_type": "stream",
     "text": [
      " Digite el valor de a 8\n",
      " Digite el valor de b 9\n",
      " Digite el valor de c 5\n",
      "11.599999999999998\n"
     ]
    }
   ],
   "source": [
    "# Respuesta\n",
    "nom1 = float(input(\" Digite el valor de a \"))\n",
    "nom2 = float(input(\" Digite el valor de b \"))\n",
    "nom3 = float(input(\" Digite el valor de c \"))\n",
    "operacion = ((nom1+nom2)/nom3)**2 + ((nom1-nom2)/nom3)**2\n",
    "print(operacion)"
   ]
  },
  {
   "cell_type": "markdown",
   "metadata": {},
   "source": [
    "# 14. Investigue como se saca la raíz cuadrada de un número en Python y escriba la solución en el cuadro de abajo"
   ]
  },
  {
   "cell_type": "code",
   "execution_count": 52,
   "metadata": {},
   "outputs": [
    {
     "name": "stdout",
     "output_type": "stream",
     "text": [
      " Escriba el numero al que desea sacarle raiz cuadrada 121.0\n",
      "La raiz cuadrada es 11.0\n"
     ]
    }
   ],
   "source": [
    "# Respuesta\n",
    "numero = float(input(\" Escriba el numero al que desea sacarle raiz cuadrada \"))\n",
    "\n",
    "print(\"La raiz cuadrada es \" + str(numero**(1/2)))"
   ]
  },
  {
   "cell_type": "markdown",
   "metadata": {},
   "source": [
    "# 15.  Con lo anterior solicite 2 numeros (Cateto a y Cateto b) e imprima la hipotenusa.\n",
    "### Ejemplo:\n",
    "- ingreso: 3 (Cateto a)\n",
    "- ingreso: 4 (Cateto b)\n",
    "- imprime: Hipotenusa = 5"
   ]
  },
  {
   "cell_type": "code",
   "execution_count": 60,
   "metadata": {},
   "outputs": [
    {
     "name": "stdout",
     "output_type": "stream",
     "text": [
      " Ingrese el valor del cateto a: 2\n",
      " Ingrese el valor del cateto b: 3\n",
      " La hipotenusa es : 3.605551275463989\n"
     ]
    }
   ],
   "source": [
    "# Respuesta\n",
    "catetoa = float(input( \" Ingrese el valor del cateto a: \"))\n",
    "catetob = float(input( \" Ingrese el valor del cateto b: \"))\n",
    "hipotenusa = (catetoa**2 + catetob**2)**(1/2) \n",
    "print(\" La hipotenusa es : \" + str(hipotenusa))"
   ]
  },
  {
   "cell_type": "code",
   "execution_count": null,
   "metadata": {},
   "outputs": [],
   "source": []
  }
 ],
 "metadata": {
  "kernelspec": {
   "display_name": "Python 3",
   "language": "python",
   "name": "python3"
  },
  "language_info": {
   "codemirror_mode": {
    "name": "ipython",
    "version": 3
   },
   "file_extension": ".py",
   "mimetype": "text/x-python",
   "name": "python",
   "nbconvert_exporter": "python",
   "pygments_lexer": "ipython3",
   "version": "3.8.3"
  }
 },
 "nbformat": 4,
 "nbformat_minor": 2
}
